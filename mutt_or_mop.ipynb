{
  "cells": [
    {
      "cell_type": "markdown",
      "metadata": {
        "id": "view-in-github",
        "colab_type": "text"
      },
      "source": [
        "<a href=\"https://colab.research.google.com/github/febielin/febielin.github.io/blob/main/mutt_or_mop.ipynb\" target=\"_parent\"><img src=\"https://colab.research.google.com/assets/colab-badge.svg\" alt=\"Open In Colab\"/></a>"
      ]
    },
    {
      "cell_type": "markdown",
      "metadata": {
        "id": "ZVml0Yz476I4"
      },
      "source": [
        "# **Mutt or Mop: Distinguishing Between Shaggy Komondors and Household Cleaning Tools Using Deep Learning**\n",
        "\n",
        "CS131 - Computer Vision: Foundations and Applications \\\\\n",
        "Final Project by Alexander Chon and Febie Lin\n",
        "\n"
      ]
    },
    {
      "cell_type": "markdown",
      "metadata": {
        "id": "0tjhCxpstX-3"
      },
      "source": [
        "## ***NOTE: RUN STEPS 1 and 6-8 ONLY.***\n",
        "\n"
      ]
    },
    {
      "cell_type": "markdown",
      "metadata": {
        "id": "N270tuAWtxw2"
      },
      "source": [
        "### STEP 1: Import Statements"
      ]
    },
    {
      "cell_type": "code",
      "execution_count": null,
      "metadata": {
        "id": "VQ3uPps81PLR"
      },
      "outputs": [],
      "source": [
        "import os\n",
        "import datetime\n",
        "import shutil\n",
        "import numpy as np\n",
        "from keras.models import load_model\n",
        "import matplotlib.pyplot as plt\n",
        "import pandas as pd\n",
        "from PIL import Image\n",
        "import tensorflow as tf\n",
        "from tensorflow.keras import layers, models\n",
        "from tensorflow.keras.models import load_model\n",
        "from tensorflow.keras.preprocessing.image import ImageDataGenerator\n",
        "from tensorflow.keras.callbacks import TensorBoard, ModelCheckpoint"
      ]
    },
    {
      "cell_type": "code",
      "execution_count": null,
      "metadata": {
        "colab": {
          "base_uri": "https://localhost:8080/"
        },
        "id": "aq8n6OcR21TB",
        "outputId": "a50c38d4-175a-444a-e18e-27f7ff06b503"
      },
      "outputs": [
        {
          "output_type": "stream",
          "name": "stdout",
          "text": [
            "Mounted at /content/drive\n"
          ]
        }
      ],
      "source": [
        "from google.colab import drive\n",
        "drive.mount('/content/drive')"
      ]
    },
    {
      "cell_type": "markdown",
      "metadata": {
        "id": "ubydl0VUJcrY"
      },
      "source": [
        "### STEP 2: Resize mutt photos."
      ]
    },
    {
      "cell_type": "code",
      "execution_count": null,
      "metadata": {
        "id": "livRnztIJYK8"
      },
      "outputs": [],
      "source": [
        "unsized_mutts_path = \"drive/MyDrive/Mutt_or_Mop/mutts\"\n",
        "resized_mutts_path = \"drive/MyDrive/Mutt_or_Mop/mutt/mutts_resized\"\n",
        "new_size = (256, 256)\n",
        "\n",
        "# resize every image\n",
        "for img in os.listdir(unsized_mutts_path):\n",
        "    image = Image.open(os.path.join(unsized_mutts_path, img))\n",
        "    resized_image = image.resize(new_size, Image.ANTIALIAS)   # ANTIALIAS resampling filter: https://medium.com/illumination/resizing-images-in-python-using-python-imaging-library-without-losing-quality-2f0df1fbaebc\n",
        "    resized_image.save(os.path.join(resized_mutts_path, img))"
      ]
    },
    {
      "cell_type": "markdown",
      "metadata": {
        "id": "lIrx8-pGJf97"
      },
      "source": [
        "### STEP 3: Resize mop photos"
      ]
    },
    {
      "cell_type": "code",
      "execution_count": null,
      "metadata": {
        "id": "MTuFuSq6JbrS"
      },
      "outputs": [],
      "source": [
        "unsized_mops_path = \"drive/MyDrive/Mutt_or_Mop/mops\"\n",
        "resized_mops_path = \"drive/MyDrive/Mutt_or_Mop/mops/mops_resized\"\n",
        "new_size = (256, 256)\n",
        "\n",
        "# resize every image\n",
        "for img in os.listdir(unsized_mops_path):\n",
        "    image = Image.open(os.path.join(unsized_mops_path, img))\n",
        "    resized_image = image.resize(new_size, Image.ANTIALIAS)   # ANTIALIAS resampling filter: https://medium.com/illumination/resizing-images-in-python-using-python-imaging-library-without-losing-quality-2f0df1fbaebc\n",
        "    resized_image.save(os.path.join(resized_mops_path, img))"
      ]
    },
    {
      "cell_type": "markdown",
      "metadata": {
        "id": "_HL7REEIM7nA"
      },
      "source": [
        "### STEP 4: Split into train, validation, test"
      ]
    },
    {
      "cell_type": "code",
      "execution_count": null,
      "metadata": {
        "id": "sTgGrHAGUCIb"
      },
      "outputs": [],
      "source": [
        "def split_dataset(source_path, dest_path):\n",
        "    # path to the new folders for the training, validation, and testing datasets\n",
        "    train = os.path.join(dest_path, 'train')\n",
        "    val = os.path.join(dest_path, 'validation')\n",
        "    test = os.path.join(dest_path, 'test')\n",
        "\n",
        "    all_images = [f for f in os.listdir(source_path)]\n",
        "    np.random.shuffle(all_images)        # shuffle the mutts and mops\n",
        "\n",
        "    # Generate the 40-30-30 split\n",
        "    train_split_idx = int(len(all_images) * 0.4)     # marks the end of the training dataset\n",
        "    val_split_idx = train_split_idx + int(len(all_images) * 0.3)     # marks the end of the validation dataset\n",
        "\n",
        "    # move to their respective folders\n",
        "    for i, img in enumerate(all_images):\n",
        "        if i < train_split_idx:\n",
        "            shutil.move(os.path.join(source_path, img), os.path.join(train, img))\n",
        "        elif i < val_split_idx:\n",
        "            shutil.move(os.path.join(source_path, img), os.path.join(val, img))\n",
        "        else:\n",
        "            shutil.move(os.path.join(source_path, img), os.path.join(test, img))"
      ]
    },
    {
      "cell_type": "code",
      "execution_count": null,
      "metadata": {
        "id": "JzVRfSvqV2iM"
      },
      "outputs": [],
      "source": [
        "source = 'drive/MyDrive/Mutt_or_Mop/imgs/mutt'\n",
        "dest = 'drive/MyDrive/Mutt_or_Mop/mutt_datasets'\n",
        "split_dataset(source, dest)\n",
        "\n",
        "source = 'drive/MyDrive/Mutt_or_Mop/imgs/mop'\n",
        "dest = 'drive/MyDrive/Mutt_or_Mop/mop_datasets'\n",
        "split_dataset(source, dest)"
      ]
    },
    {
      "cell_type": "markdown",
      "metadata": {
        "id": "npOTgSg7waac"
      },
      "source": [
        "### STEP 5: Data Augmentation"
      ]
    },
    {
      "cell_type": "code",
      "execution_count": null,
      "metadata": {
        "id": "_ILC-pVmwczc",
        "colab": {
          "base_uri": "https://localhost:8080/"
        },
        "outputId": "4fc0b041-4f2f-44a4-e01c-2a46f25b19c9"
      },
      "outputs": [
        {
          "output_type": "stream",
          "name": "stdout",
          "text": [
            "Found 90 images belonging to 2 classes.\n"
          ]
        }
      ],
      "source": [
        "datagen = ImageDataGenerator(\n",
        "    rescale=1./255,            # normalize pizels to [0, 1]\n",
        "    rotation_range=180,        # randomly rotate up to 180 degrees\n",
        "    width_shift_range=0.3,     # randomly shift width up to 30%\n",
        "    height_shift_range=0.3,    # randomly shift height up to 30%\n",
        "    shear_range=0.3,           # random shearing up to 30%\n",
        "    zoom_range=0.3,            # randomly zooms in/out, up to 30%\n",
        "    horizontal_flip=True,      # randomly flips image horizontally\n",
        "    fill_mode='nearest')       # fill in new pixels with those nearest by\n",
        "\n",
        "\n",
        "original = 'drive/MyDrive/Mutt_or_Mop/datasets/train'\n",
        "augmented = 'drive/MyDrive/Mutt_or_Mop/augment'\n",
        "\n",
        "generator = datagen.flow_from_directory(\n",
        "    original,\n",
        "    target_size=(256, 256),\n",
        "    batch_size=32,\n",
        "    class_mode='categorical',\n",
        "    save_to_dir=augmented,\n",
        "    save_prefix='augmented_',\n",
        "    save_format='jpg')\n",
        "\n",
        "for i in range(6):     # brings our split up to 66-17-17\n",
        "    batch = generator.next()"
      ]
    },
    {
      "cell_type": "markdown",
      "metadata": {
        "id": "KbvkpD6WXL7P"
      },
      "source": [
        "### STEP 6: Model Training\n"
      ]
    },
    {
      "cell_type": "code",
      "execution_count": null,
      "metadata": {
        "colab": {
          "base_uri": "https://localhost:8080/"
        },
        "id": "a621skwUW4jK",
        "outputId": "0a07e8d4-f391-4070-99e9-6f36f438d302"
      },
      "outputs": [
        {
          "output_type": "stream",
          "name": "stdout",
          "text": [
            "Found 267 images belonging to 2 classes.\n",
            "Found 67 images belonging to 2 classes.\n"
          ]
        }
      ],
      "source": [
        "train = ImageDataGenerator(rescale=1./255)            # normalize pizels to [0, 1]\n",
        "validation = ImageDataGenerator(rescale=1./255)\n",
        "\n",
        "train_generator = train.flow_from_directory(\n",
        "    'drive/MyDrive/Mutt_or_Mop/datasets/train',\n",
        "    target_size=(256, 256),\n",
        "    batch_size=16,\n",
        "    class_mode='binary')\n",
        "\n",
        "validation_generator = validation.flow_from_directory(\n",
        "    'drive/MyDrive/Mutt_or_Mop/datasets/validation',\n",
        "    target_size=(256, 256),\n",
        "    batch_size=16,\n",
        "    class_mode='binary')\n"
      ]
    },
    {
      "cell_type": "code",
      "source": [
        "# MODEL ARCHITECTURE\n",
        "model = models.Sequential([\n",
        "    layers.Conv2D(32, (3, 3), activation='relu', input_shape=(256, 256, 3)),\n",
        "    layers.MaxPooling2D(2, 2),\n",
        "    layers.Dropout(0.25),     # add dropout layers to address overfitting\n",
        "\n",
        "    layers.Conv2D(64, (3, 3), activation='relu'),\n",
        "    layers.MaxPooling2D(2, 2),\n",
        "    layers.Dropout(0.25),\n",
        "\n",
        "    layers.Conv2D(128, (3, 3), activation='relu'),\n",
        "    layers.MaxPooling2D(2, 2),\n",
        "    layers.Dropout(0.25),\n",
        "\n",
        "    layers.Flatten(),\n",
        "    layers.Dense(512, activation='relu'),\n",
        "    layers.Dropout(0.5),\n",
        "\n",
        "    layers.Dense(1, activation='sigmoid')\n",
        "])\n",
        "\n",
        "model.compile(optimizer='adam', loss='binary_crossentropy', metrics=['accuracy'])\n"
      ],
      "metadata": {
        "id": "3DcIxiR2yAu3"
      },
      "execution_count": null,
      "outputs": []
    },
    {
      "cell_type": "code",
      "execution_count": null,
      "metadata": {
        "id": "sFoy1j_sA7VX"
      },
      "outputs": [],
      "source": [
        "# keep track of our best model via validation loss\n",
        "checkpoint_callback = ModelCheckpoint(\n",
        "    'best_model.h5',\n",
        "    monitor='val_loss',\n",
        "    save_best_only=True,\n",
        "    mode='min',\n",
        "    verbose=1\n",
        ")"
      ]
    },
    {
      "cell_type": "code",
      "execution_count": null,
      "metadata": {
        "colab": {
          "base_uri": "https://localhost:8080/"
        },
        "id": "ZdwxmXvCW8np",
        "outputId": "2ecac0ad-4f0e-4c04-9827-a8b126f79309"
      },
      "outputs": [
        {
          "output_type": "stream",
          "name": "stdout",
          "text": [
            "Epoch 1/8\n",
            "17/17 [==============================] - ETA: 0s - loss: 4.9736 - accuracy: 0.5468\n",
            "Epoch 1: val_loss improved from inf to 0.64812, saving model to best_model.h5\n"
          ]
        },
        {
          "output_type": "stream",
          "name": "stderr",
          "text": [
            "/usr/local/lib/python3.10/dist-packages/keras/src/engine/training.py:3103: UserWarning: You are saving your model as an HDF5 file via `model.save()`. This file format is considered legacy. We recommend using instead the native Keras format, e.g. `model.save('my_model.keras')`.\n",
            "  saving_api.save_model(\n"
          ]
        },
        {
          "output_type": "stream",
          "name": "stdout",
          "text": [
            "\b\b\b\b\b\b\b\b\b\b\b\b\b\b\b\b\b\b\b\b\b\b\b\b\b\b\b\b\b\b\b\b\b\b\b\b\b\b\b\b\b\b\b\b\b\b\b\b\b\b\b\b\b\b\b\b\b\b\b\b\b\b\b\b\b\b\b\b\b\b\b\b\b\b\b\b\b\b\b\b\b\b\r17/17 [==============================] - 99s 6s/step - loss: 4.9736 - accuracy: 0.5468 - val_loss: 0.6481 - val_accuracy: 0.5970\n",
            "Epoch 2/8\n",
            "17/17 [==============================] - ETA: 0s - loss: 0.5647 - accuracy: 0.6704\n",
            "Epoch 2: val_loss improved from 0.64812 to 0.51349, saving model to best_model.h5\n",
            "17/17 [==============================] - 8s 415ms/step - loss: 0.5647 - accuracy: 0.6704 - val_loss: 0.5135 - val_accuracy: 0.7612\n",
            "Epoch 3/8\n",
            "17/17 [==============================] - ETA: 0s - loss: 0.3630 - accuracy: 0.8652\n",
            "Epoch 3: val_loss improved from 0.51349 to 0.28359, saving model to best_model.h5\n",
            "17/17 [==============================] - 4s 263ms/step - loss: 0.3630 - accuracy: 0.8652 - val_loss: 0.2836 - val_accuracy: 0.8955\n",
            "Epoch 4/8\n",
            "17/17 [==============================] - ETA: 0s - loss: 0.2750 - accuracy: 0.8989\n",
            "Epoch 4: val_loss improved from 0.28359 to 0.27472, saving model to best_model.h5\n",
            "17/17 [==============================] - 11s 686ms/step - loss: 0.2750 - accuracy: 0.8989 - val_loss: 0.2747 - val_accuracy: 0.9254\n",
            "Epoch 5/8\n",
            "17/17 [==============================] - ETA: 0s - loss: 0.2542 - accuracy: 0.9101\n",
            "Epoch 5: val_loss improved from 0.27472 to 0.27456, saving model to best_model.h5\n",
            "17/17 [==============================] - 6s 383ms/step - loss: 0.2542 - accuracy: 0.9101 - val_loss: 0.2746 - val_accuracy: 0.9104\n",
            "Epoch 6/8\n",
            "17/17 [==============================] - ETA: 0s - loss: 0.2290 - accuracy: 0.9213\n",
            "Epoch 6: val_loss did not improve from 0.27456\n",
            "17/17 [==============================] - 2s 94ms/step - loss: 0.2290 - accuracy: 0.9213 - val_loss: 0.3119 - val_accuracy: 0.8507\n",
            "Epoch 7/8\n",
            "17/17 [==============================] - ETA: 0s - loss: 0.2118 - accuracy: 0.9363\n",
            "Epoch 7: val_loss improved from 0.27456 to 0.26770, saving model to best_model.h5\n",
            "17/17 [==============================] - 4s 263ms/step - loss: 0.2118 - accuracy: 0.9363 - val_loss: 0.2677 - val_accuracy: 0.8955\n",
            "Epoch 8/8\n",
            "17/17 [==============================] - ETA: 0s - loss: 0.2434 - accuracy: 0.9213\n",
            "Epoch 8: val_loss did not improve from 0.26770\n",
            "17/17 [==============================] - 2s 139ms/step - loss: 0.2434 - accuracy: 0.9213 - val_loss: 0.2685 - val_accuracy: 0.8955\n"
          ]
        }
      ],
      "source": [
        "# train\n",
        "history = model.fit(\n",
        "    train_generator,\n",
        "    steps_per_epoch=17,\n",
        "    epochs=8,\n",
        "    validation_data=validation_generator,\n",
        "    validation_steps=5,\n",
        "    callbacks=[checkpoint_callback])"
      ]
    },
    {
      "cell_type": "markdown",
      "source": [
        "### STEP 7: Model Testing"
      ],
      "metadata": {
        "id": "1g0s9r-ye54v"
      }
    },
    {
      "cell_type": "code",
      "execution_count": null,
      "metadata": {
        "colab": {
          "base_uri": "https://localhost:8080/"
        },
        "id": "DoXL8CelAVFc",
        "outputId": "8841d8ee-6f15-40ed-b30c-2db6acdb358e"
      },
      "outputs": [
        {
          "output_type": "stream",
          "name": "stdout",
          "text": [
            "Found 68 images belonging to 2 classes.\n",
            "5/5 [==============================] - 21s 5s/step - loss: 0.2571 - accuracy: 0.8824\n",
            "5/5 [==============================] - 0s 63ms/step\n",
            "Test Loss:  0.2571265697479248\n",
            "Test Accuracy:  0.8823529481887817\n"
          ]
        }
      ],
      "source": [
        "loaded_model = load_model('best_model.h5')\n",
        "\n",
        "test_datagen = ImageDataGenerator(rescale=1./255)\n",
        "test_generator = test_datagen.flow_from_directory(\n",
        "    'drive/MyDrive/Mutt_or_Mop/datasets/test',\n",
        "    target_size=(256, 256),\n",
        "    batch_size=16,\n",
        "    class_mode='binary')\n",
        "\n",
        "test_loss, test_accuracy = loaded_model.evaluate(test_generator)\n",
        "print(\"Test Loss: {0}\".format(test_loss))\n",
        "print(\"Test Accuracy: {0}\".format(test_accuracy))\n",
        "\n",
        "\n",
        "# ---- OBTAIN THE CSV FILE WITH TRUE VS PREDICTED ----\n",
        "\n",
        "predictions = loaded_model.predict(test_generator)\n",
        "predicted_classes = np.round(predictions).flatten()     # goes to 0 or 1\n",
        "true_classes = test_generator.classes\n",
        "filenames = test_generator.filenames\n",
        "\n",
        "results_df = pd.DataFrame({\n",
        "    'filename': filenames,\n",
        "    'true': true_classes,\n",
        "    'predicted': predicted_classes,\n",
        "    'probability': predictions.flatten()\n",
        "})\n",
        "\n",
        "results_df.to_csv('results.csv', index=False)"
      ]
    },
    {
      "cell_type": "markdown",
      "source": [
        "### STEP 8: Visualization"
      ],
      "metadata": {
        "id": "EQuZaMcSesUI"
      }
    },
    {
      "cell_type": "code",
      "execution_count": null,
      "metadata": {
        "colab": {
          "base_uri": "https://localhost:8080/",
          "height": 927
        },
        "id": "QphWdQ80H4PY",
        "outputId": "c6c04352-7560-45ab-9095-19c8b789faab"
      },
      "outputs": [
        {
          "output_type": "display_data",
          "data": {
            "text/plain": [
              "<Figure size 640x480 with 1 Axes>"
            ],
            "image/png": "[encoded data removed]"
          },
          "metadata": {}
        },
        {
          "output_type": "display_data",
          "data": {
            "text/plain": [
              "<Figure size 640x480 with 1 Axes>"
            ],
            "image/png": "[encoded data removed]"
          },
          "metadata": {}
        }
      ],
      "source": [
        "# Accuracy graph\n",
        "plt.plot(history.history['accuracy'])\n",
        "plt.plot(history.history['val_accuracy'])\n",
        "plt.title('Model Accuracy')\n",
        "plt.xlabel('Epoch')\n",
        "plt.ylabel('Accuracy')\n",
        "plt.legend(['Train', 'Validation'], loc='upper left')\n",
        "plt.show()\n",
        "\n",
        "\n",
        "# Loss graph\n",
        "plt.plot(history.history['loss'])\n",
        "plt.plot(history.history['val_loss'])\n",
        "plt.title('Model Loss')\n",
        "plt.xlabel('Epoch')\n",
        "plt.ylabel('Loss')\n",
        "plt.legend(['Train', 'Validation'], loc='upper left')\n",
        "plt.show()"
      ]
    }
  ],
  "metadata": {
    "colab": {
      "provenance": [],
      "collapsed_sections": [
        "ubydl0VUJcrY",
        "lIrx8-pGJf97",
        "_HL7REEIM7nA",
        "npOTgSg7waac"
      ],
      "include_colab_link": true
    },
    "kernelspec": {
      "display_name": "Python 3",
      "name": "python3"
    },
    "language_info": {
      "name": "python"
    }
  },
  "nbformat": 4,
  "nbformat_minor": 0
}